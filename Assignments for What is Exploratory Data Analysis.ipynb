{
 "cells": [
  {
   "cell_type": "markdown",
   "id": "97e514e4",
   "metadata": {},
   "source": [
    "Soru1: Veri keşfinin amacı nedir? \n",
    "\n",
    "-Farklı özellikler ile verilerdeki modeller arasındaki ilişkileri keşfetmek amacıyla verilerin araştırılmasıdır. Bu aşamada kullandığımız temel araçlar ; istatistikler ve görselleştirme teknikleridir."
   ]
  },
  {
   "cell_type": "markdown",
   "id": "c25b8f44",
   "metadata": {},
   "source": [
    "------------------------------------"
   ]
  },
  {
   "cell_type": "markdown",
   "id": "f89aec05",
   "metadata": {},
   "source": [
    "Soru 2 : Bir e-ticaret şirketinin ürünlerine ilişkin müşteri incelemelerini içeren bir veri kümesi üzerinde çalıştığınızı varsayalım. Şirketin web sitesi aracılığıyla toplanan müşteri yorumları, içeriğin olumlu ya da olumsuz olmasına göre 1 ile 5 arasında derecelendirilir.\n",
    "\n",
    "\n",
    "1- Bu ham verilerde ne gibi sorunlarla karşılaşmayı bekliyorsunuz?\n",
    "\n",
    "2- Göreviniz, müşterilerin yorumlarının olumlu ya da olumsuz olduğunu ortaya çıkaran özellikleri belirlemek olsaydı, bunu nasıl yapardınız ve bunun için hangi yöntemleri kullanırdınız?\n",
    "\n",
    "3- Ham verilerden çıkarılabilecek faydalı özellikler nelerdir? Bu verilere nasıl erişebilir ve yararlı olup olmadığını anlayabilirsiniz?"
   ]
  },
  {
   "cell_type": "markdown",
   "id": "5f6e2f73",
   "metadata": {},
   "source": [
    "Cevap;\n",
    "\n",
    "1- Anlamsız veya null veriler olabilir.Gerçekten ürün hakkında olmayan yorumlar olabilir.\n",
    "\n",
    "2- Doğal dil işleme kullanırdım. Doğal dil işleme öncelikle dil bilimsel yapıyı ve kelimelerin anlamını analiz etmek için dil bilimi uygular. Sonrasında, çeşitli görevleri yapabilen akıllı sistemler oluşturmak için farklı algoritmalar kullanır.\n",
    "DDİ, dili daha kısa, temel parçalara böler, parçalar arasındaki ilişkileri anlamaya çalışır ve parçaların anlam yaratmak için birlikte nasıl çalıştığını keşfeder.\n",
    "Bu sayede kullanılan kelimelerin olumlu mu olumsuz mu anlam içerdiğini anlarız ve puanlayabiliriz.\n",
    "\n",
    "3-Kişinin o ürüne sadece yorum yapması bile o ürün çerçevesindeki şeylerle ilgilendiği anlamına gelebilir. Olumlu yorum yaptığı ürünlere benzer ürünler önerme gibi özellikler geliştirebiliriz.\n",
    "Ürünün satış fiyatı ve indirimli fiyatı arasındaki satış sayılarını karşılaştırıp hangisinde daha fazla ürün satılmış bakabilir ve yeni bir feature çıkarabiliriz. İndirime girmesi insanlardaki ilgiyi arttırmış mı, o ürünü umursamışlar mı bunu görebiliriz.\n",
    "Bu ve bunun gibi verilere feature ( satır ) karşılaştırmaları yaparak ulaşabiliriz. Yararlı olup olmadığını da yine aynı şekilde eski verilerle karşılaştırarak bulabiliriz."
   ]
  },
  {
   "cell_type": "markdown",
   "id": "7d86dd5e",
   "metadata": {},
   "source": [
    "----------------------------------------"
   ]
  },
  {
   "cell_type": "markdown",
   "id": "54dfff4f",
   "metadata": {},
   "source": [
    "Soru 3 : Neden kayıp değerlere dikkat edilmesi gerektiğini düşünüyorsunuz?"
   ]
  },
  {
   "cell_type": "markdown",
   "id": "1c3e8a97",
   "metadata": {},
   "source": [
    "Kayıp değerler, boş değer döndürerek çalışmamıza hiçbir katkısı olmayan değerlerdir. Anlamsız veya kalitesiz sonuçlar ortaya çıkmasına neden olur. Hatalı sonuçlara sebep olur. Olası bir yanlılık ve hatalı kestirimlere sebep olur."
   ]
  },
  {
   "cell_type": "markdown",
   "id": "278a137c",
   "metadata": {},
   "source": [
    "----------------------------------------------"
   ]
  },
  {
   "cell_type": "markdown",
   "id": "409d2412",
   "metadata": {},
   "source": [
    "Soru 4 : Aykırı değerlerin bir veri kümesi üzerinde bir etkisi olduğunu düşünüyor musunuz? Eğer öyleyse, bu etkiyi nasıl açıklarsınız?"
   ]
  },
  {
   "cell_type": "markdown",
   "id": "e365bd00",
   "metadata": {},
   "source": [
    "Aykırı değerler, veri seti üzerinde doğru tahmin yapmamızı engeller. Örneğin bir sınıfta 20 öğrenci olsun. notları şu şekilde olsun : [10,20,30,40,40,30,100,10,10,50,10,20,30,40,40,30,10,10,100,50]. Ortalaması 34. Ancak buradaki 100 değerlerini atarsak ortalama 18.8 'e düşecek. Görüldüğü gibi ortalama ciddi miktarda değişti. Sınıf hakkında farklı bir tahmin yapmamıza neden oldu bu 2 kişinin puanı."
   ]
  },
  {
   "cell_type": "markdown",
   "id": "f78da4a8",
   "metadata": {},
   "source": [
    "------------------------------------------------------"
   ]
  },
  {
   "cell_type": "markdown",
   "id": "a4110ca1",
   "metadata": {},
   "source": [
    "Soru 5: Verileri analiz etmeye başladığınızda ilk eylemlerinizi kısaca özetler misiniz?"
   ]
  },
  {
   "cell_type": "markdown",
   "id": "2b88a66b",
   "metadata": {},
   "source": [
    "Bir veriyi elde ettiğimizde önce veriye info(),describe(),head(),tail() gibi fonksiyonlar ile bakarak veri hakkında bilgi edinmeye çalışırız. Verideki ilgisiz ve potansiyel olarak yanıltıcı bilgilerden kurtulmalı ve çalışabilir hale getirmeliyiz. Daha sonra hedefimizi (veri kümemizde açıklamaya çalıştığımız değişken) belirler ve bunu açıklayabilecek faydaları özellikleri bulmaya çalışırız. Daha sonra istersek bu faydalı özelliklerden yeni çıkardığımız feature'ları datasetimize bir feature olarak ekleyebiliriz."
   ]
  },
  {
   "cell_type": "code",
   "execution_count": null,
   "id": "e3fe11ca",
   "metadata": {},
   "outputs": [],
   "source": []
  }
 ],
 "metadata": {
  "kernelspec": {
   "display_name": "Python 3",
   "language": "python",
   "name": "python3"
  },
  "language_info": {
   "codemirror_mode": {
    "name": "ipython",
    "version": 3
   },
   "file_extension": ".py",
   "mimetype": "text/x-python",
   "name": "python",
   "nbconvert_exporter": "python",
   "pygments_lexer": "ipython3",
   "version": "3.8.8"
  }
 },
 "nbformat": 4,
 "nbformat_minor": 5
}
